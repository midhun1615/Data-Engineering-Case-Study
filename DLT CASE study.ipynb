{
 "cells": [
  {
   "cell_type": "code",
   "execution_count": 1,
   "id": "b44a6383-9847-4d58-854b-5a3bf9422fb1",
   "metadata": {},
   "outputs": [],
   "source": [
    "import dlt"
   ]
  },
  {
   "cell_type": "code",
   "execution_count": 4,
   "id": "30deb091-d7e6-4baf-a21c-6f6c40862f25",
   "metadata": {},
   "outputs": [
    {
     "data": {
      "text/plain": [
       "LoadInfo(pipeline=<dlt.pipeline.pipeline.Pipeline object at 0x000002EEFDF86110>, destination_name='duckdb', destination_displayable_credentials='duckdb:///C:\\\\Users\\\\HP\\\\dlt_ipykernel_launcher.duckdb', staging_name=None, staging_displayable_credentials=None, destination_fingerprint='', dataset_name='mydata', loads_ids=['1699372669.694865'], load_packages=[LoadPackageInfo(load_id='1699372669.694865', package_path='C:\\\\Users\\\\HP\\\\.dlt\\\\pipelines\\\\dlt_ipykernel_launcher\\\\load\\\\loaded\\\\1699372669.694865', state='loaded', schema_name='dlt_ipykernel_launcher', schema_update={}, completed_at=DateTime(2023, 11, 7, 15, 57, 51, 607056, tzinfo=Timezone('UTC')), jobs={'started_jobs': [], 'new_jobs': [], 'completed_jobs': [LoadJobInfo(state='completed_jobs', file_path='C:\\\\Users\\\\HP\\\\.dlt\\\\pipelines\\\\dlt_ipykernel_launcher\\\\load\\\\loaded\\\\1699372669.694865\\\\completed_jobs\\\\users.ea132bee69.0.insert_values', file_size=160, created_at=DateTime(2023, 11, 7, 15, 57, 49, 850093, tzinfo=Timezone('UTC')), elapsed=1.756962776184082, job_file_info=ParsedLoadJobFileName(table_name='users', file_id='ea132bee69', retry_count=0, file_format='insert_values'), failed_message=None), LoadJobInfo(state='completed_jobs', file_path='C:\\\\Users\\\\HP\\\\.dlt\\\\pipelines\\\\dlt_ipykernel_launcher\\\\load\\\\loaded\\\\1699372669.694865\\\\completed_jobs\\\\_dlt_pipeline_state.29192e9c94.0.insert_values', file_size=414, created_at=DateTime(2023, 11, 7, 15, 57, 49, 849094, tzinfo=Timezone('UTC')), elapsed=1.7579617500305176, job_file_info=ParsedLoadJobFileName(table_name='_dlt_pipeline_state', file_id='29192e9c94', retry_count=0, file_format='insert_values'), failed_message=None)], 'failed_jobs': []})], started_at=DateTime(2023, 11, 7, 15, 57, 47, 850837, tzinfo=Timezone('UTC')), first_run=False)"
      ]
     },
     "execution_count": 4,
     "metadata": {},
     "output_type": "execute_result"
    }
   ],
   "source": [
    "dlt.pipeline(destination='duckdb', dataset_name='mydata').run([{'id': 1, 'name': 'John'}], table_name=\"users\")"
   ]
  },
  {
   "cell_type": "code",
   "execution_count": 5,
   "id": "19bb1a89-691c-45af-b5a0-e80b26f2a680",
   "metadata": {},
   "outputs": [
    {
     "name": "stdout",
     "output_type": "stream",
     "text": [
      "Pipeline dlt_ipykernel_launcher completed in 2.31 seconds\n",
      "1 load package(s) were loaded to destination duckdb and into dataset country_data\n",
      "The duckdb destination used duckdb:///C:\\Users\\HP\\dlt_ipykernel_launcher.duckdb location to store data\n",
      "Load package 1699372737.805964 is LOADED and contains no failed jobs\n"
     ]
    }
   ],
   "source": [
    "import dlt\n",
    "\n",
    "pipeline = dlt.pipeline(destination=\"duckdb\", dataset_name=\"country_data\")\n",
    "\n",
    "data = [\n",
    "    {'country': 'USA', 'population': 331449281, 'capital': 'Washington, D.C.'},\n",
    "    {'country': 'Canada', 'population': 38005238, 'capital': 'Ottawa'},\n",
    "    {'country': 'Germany', 'population': 83019200, 'capital': 'Berlin'}\n",
    "]\n",
    "\n",
    "info = pipeline.run(data, table_name=\"countries\")\n",
    "\n",
    "print(info)"
   ]
  },
  {
   "cell_type": "code",
   "execution_count": 6,
   "id": "f2554b07-ae3e-445b-ae2a-3a52451ce70d",
   "metadata": {},
   "outputs": [],
   "source": [
    "import dlt\n",
    "\n",
    "# have data? dlt likes data\n",
    "data = [{'id': 1, 'name': 'John'}]\n",
    "\n",
    "# open connection\n",
    "pipeline = dlt.pipeline(\n",
    "    destination='duckdb',\n",
    "    dataset_name='raw_data'\n",
    ")\n",
    "\n",
    "# Upsert/merge: Update old records, insert new\n",
    "load_info = pipeline.run(\n",
    "    data,\n",
    "    write_disposition=\"merge\",\n",
    "    primary_key=\"id\",\n",
    "    table_name=\"users\"\n",
    ")"
   ]
  },
  {
   "cell_type": "code",
   "execution_count": 7,
   "id": "1cdc395d-bc86-40e3-a666-bce681abf38f",
   "metadata": {},
   "outputs": [
    {
     "data": {
      "text/plain": [
       "LoadInfo(pipeline=<dlt.pipeline.pipeline.Pipeline object at 0x000002EE80E107F0>, destination_name='duckdb', destination_displayable_credentials='duckdb:///C:\\\\Users\\\\HP\\\\dlt_ipykernel_launcher.duckdb', staging_name=None, staging_displayable_credentials=None, destination_fingerprint='', dataset_name='raw_data', loads_ids=['1699373568.881148'], load_packages=[LoadPackageInfo(load_id='1699373568.881148', package_path='C:\\\\Users\\\\HP\\\\.dlt\\\\pipelines\\\\dlt_ipykernel_launcher\\\\load\\\\loaded\\\\1699373568.881148', state='loaded', schema_name='dlt_ipykernel_launcher', schema_update={}, completed_at=DateTime(2023, 11, 7, 16, 12, 50, 136602, tzinfo=Timezone('UTC')), jobs={'started_jobs': [], 'new_jobs': [], 'completed_jobs': [LoadJobInfo(state='completed_jobs', file_path='C:\\\\Users\\\\HP\\\\.dlt\\\\pipelines\\\\dlt_ipykernel_launcher\\\\load\\\\loaded\\\\1699373568.881148\\\\completed_jobs\\\\transform_status.73542f32eb.0.insert_values', file_size=358, created_at=DateTime(2023, 11, 7, 16, 12, 48, 939563, tzinfo=Timezone('UTC')), elapsed=1.1970391273498535, job_file_info=ParsedLoadJobFileName(table_name='transform_status', file_id='73542f32eb', retry_count=0, file_format='insert_values'), failed_message=None)], 'failed_jobs': []})], started_at=DateTime(2023, 11, 7, 16, 12, 48, 824667, tzinfo=Timezone('UTC')), first_run=False)"
      ]
     },
     "execution_count": 7,
     "metadata": {},
     "output_type": "execute_result"
    }
   ],
   "source": [
    "venv = dlt.dbt.get_venv(pipeline)\n",
    "dbt = dlt.dbt.package(\n",
    "    pipeline,\n",
    "    \"https://github.com/dbt-labs/jaffle_shop.git\",\n",
    "    venv=venv\n",
    ")\n",
    "models_info = dbt.run_all()\n",
    "\n",
    "# Load metadata for monitoring and load package lineage.\n",
    "# This allows for both row and column level lineage,\n",
    "# as it contains schema update info linked to the loaded data\n",
    "pipeline.run([load_info], table_name=\"loading_status\", write_disposition='append')\n",
    "pipeline.run([models_info], table_name=\"transform_status\", write_disposition='append')"
   ]
  },
  {
   "cell_type": "code",
   "execution_count": 8,
   "id": "d89fbc6b-ed68-409d-9737-eb7ef568cc47",
   "metadata": {},
   "outputs": [],
   "source": [
    "from dlt.common.runtime.slack import send_slack_message\n",
    "\n",
    "slack_hook = \"https://hooks.slack.com/services/xxx/xxx/xxx\"\n",
    "\n",
    "for package in load_info.load_packages:\n",
    "    for table_name, table in package.schema_update.items():\n",
    "        for column_name, column in table[\"columns\"].items():\n",
    "            send_slack_message(\n",
    "                slack_hook,\n",
    "                message=f\"\\tTable updated: {table_name}: Column changed: {column_name}: {column['data_type']}\"\n",
    "            )"
   ]
  },
  {
   "cell_type": "code",
   "execution_count": 9,
   "id": "456c5439-6e88-4e0c-9aee-bbf39fd67c19",
   "metadata": {},
   "outputs": [],
   "source": [
    "@dlt.resource(primary_key=\"id\", write_disposition=\"merge\")\n",
    "def github_repo_events():\n",
    "    yield from _get_event_pages()"
   ]
  },
  {
   "cell_type": "code",
   "execution_count": null,
   "id": "d2b1cc43-4262-4ca9-8303-d9aad959f2d1",
   "metadata": {},
   "outputs": [],
   "source": []
  }
 ],
 "metadata": {
  "kernelspec": {
   "display_name": "Python 3 (ipykernel)",
   "language": "python",
   "name": "python3"
  },
  "language_info": {
   "codemirror_mode": {
    "name": "ipython",
    "version": 3
   },
   "file_extension": ".py",
   "mimetype": "text/x-python",
   "name": "python",
   "nbconvert_exporter": "python",
   "pygments_lexer": "ipython3",
   "version": "3.10.13"
  }
 },
 "nbformat": 4,
 "nbformat_minor": 5
}
